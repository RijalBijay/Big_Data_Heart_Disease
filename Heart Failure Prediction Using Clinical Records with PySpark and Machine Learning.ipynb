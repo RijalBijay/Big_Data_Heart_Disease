{
 "cells": [
  {
   "cell_type": "markdown",
   "id": "d7b9900d-0907-4a0a-bfc7-5071b57d25fb",
   "metadata": {},
   "source": [
    "## Traversing a Directory to Locate and Print File Paths"
   ]
  },
  {
   "cell_type": "raw",
   "id": "afa913cc-8191-4f7b-adc2-ce839eb9b9a8",
   "metadata": {},
   "source": [
    "This Python script traverses a specified directory and prints the full paths of all files within it. It imports the os library to interact with the file system and defines the root_directory as the starting point for traversal. Using os.walk(root_directory), the script generates file names within the directory tree. A for loop iterates through each directory and file, constructing the full path for each file using os.path.join(dirname, filename), and then prints the full path of each file."
   ]
  },
  {
   "cell_type": "code",
   "execution_count": 2,
   "id": "30171863-ecce-4b73-bc79-b0fc7afd92c6",
   "metadata": {},
   "outputs": [
    {
     "name": "stdout",
     "output_type": "stream",
     "text": [
      "D:\\Master Course\\Sem Two\\Big Data Management And Data Visualisation\\Dataset\\heart_failure_clinical_records_dataset.csv\n"
     ]
    }
   ],
   "source": [
    "import numpy as np\n",
    "import pandas as pd\n",
    "\n",
    "import os\n",
    "\n",
    "# Define the root directory where your dataset is located\n",
    "root_directory = r\"D:\\Master Course\\Sem Two\\Big Data Management And Data Visualisation\\Dataset\"\n",
    "\n",
    "# Traverse the directory tree starting from root_directory\n",
    "for dirname, _, filenames in os.walk(root_directory):\n",
    "    for filename in filenames:\n",
    "        print(os.path.join(dirname, filename))"
   ]
  },
  {
   "cell_type": "raw",
   "id": "69f702bc-32bd-4e92-a86d-277571508c02",
   "metadata": {},
   "source": [
    "Summary:\n",
    "The above script explores the file structure within a specific directory, printing out the full paths of all files found. This can be particularly useful for verifying the location of datasets or other files needed for data analysis projects."
   ]
  },
  {
   "cell_type": "markdown",
   "id": "112ad095-dea9-4bad-8529-60666830c0ed",
   "metadata": {},
   "source": [
    "# Importing Necessary Libraries and Packages for PySpark"
   ]
  },
  {
   "cell_type": "raw",
   "id": "ee6e3d15-157c-4df7-bedc-106bd949901d",
   "metadata": {},
   "source": [
    "This code demonstrates how to import essential libraries and packages required for working with PySpark, a powerful big data processing and analytics framework built on top of Apache Spark. The specific imports cover Spark context initialization, SQL functionalities, data manipulation, and machine learning operations."
   ]
  },
  {
   "cell_type": "code",
   "execution_count": 3,
   "id": "766c82f0-f7d0-4fff-9271-bc97c04675c4",
   "metadata": {},
   "outputs": [],
   "source": [
    "# Importing the Package\n",
    "from pyspark import SparkContext\n",
    "from pyspark.sql import SparkSession\n",
    "from pyspark.sql.functions import *\n",
    "from pyspark.sql.types import *\n",
    "from pyspark.ml.classification import LogisticRegression, RandomForestClassifier, DecisionTreeClassifier\n",
    "from pyspark.ml.feature import VectorAssembler"
   ]
  },
  {
   "cell_type": "raw",
   "id": "5899eab1-7c15-43e1-96f7-2bdfd78ecd61",
   "metadata": {},
   "source": [
    "It initializes Spark for data processing and machine learning. It imports essential components like SparkContext and SparkSession for handling data with DataFrames and SQL. It also includes functions and types for data manipulation and schema definition. For machine learning, it imports classification algorithms (Logistic Regression, Random Forest, Decision Tree) and a utility to combine columns into vectors for model training."
   ]
  },
  {
   "cell_type": "raw",
   "id": "5f9a6dbd-59fb-4b5b-b57e-f6cd801f50cb",
   "metadata": {},
   "source": [
    "Summary:\n",
    "It prepares the environment for data processing, analysis, and machine learning using PySpark. It includes necessary imports to initialize Spark, work with DataFrames and SQL, and apply machine learning algorithms, essential for developing scalable big data applications."
   ]
  },
  {
   "cell_type": "markdown",
   "id": "aacf5fb0-703b-4359-973a-5225233d3cdc",
   "metadata": {},
   "source": [
    "# Loading Data into PySpark DataFrame"
   ]
  },
  {
   "cell_type": "raw",
   "id": "acf558a5-5db2-49f2-87f3-f87b560c5307",
   "metadata": {},
   "source": [
    "This demonstrates how to load a CSV file into a PySpark DataFrame using SparkSession and display the first few rows of the DataFrame."
   ]
  },
  {
   "cell_type": "code",
   "execution_count": 4,
   "id": "6960cc9a-65cd-4a28-aed7-cfd1ce4f1c3e",
   "metadata": {},
   "outputs": [
    {
     "name": "stdout",
     "output_type": "stream",
     "text": [
      "+----+-------+------------------------+--------+-----------------+-------------------+---------+----------------+------------+---+-------+----+-----------+\n",
      "|age |anaemia|creatinine_phosphokinase|diabetes|ejection_fraction|high_blood_pressure|platelets|serum_creatinine|serum_sodium|sex|smoking|time|DEATH_EVENT|\n",
      "+----+-------+------------------------+--------+-----------------+-------------------+---------+----------------+------------+---+-------+----+-----------+\n",
      "|75.0|0      |582                     |0       |20               |1                  |265000.0 |1.9             |130         |1  |0      |4   |1          |\n",
      "|55.0|0      |7861                    |0       |38               |0                  |263358.03|1.1             |136         |1  |0      |6   |1          |\n",
      "|65.0|0      |146                     |0       |20               |0                  |162000.0 |1.3             |129         |1  |1      |7   |1          |\n",
      "|50.0|1      |111                     |0       |20               |0                  |210000.0 |1.9             |137         |1  |0      |7   |1          |\n",
      "|65.0|1      |160                     |1       |20               |0                  |327000.0 |2.7             |116         |0  |0      |8   |1          |\n",
      "+----+-------+------------------------+--------+-----------------+-------------------+---------+----------------+------------+---+-------+----+-----------+\n",
      "only showing top 5 rows\n",
      "\n"
     ]
    }
   ],
   "source": [
    "# Initialize SparkSession\n",
    "spark=SparkSession.builder.master('local').appName(\"Heart Failure\").getOrCreate()\n",
    "# Load data from CSV into a DataFrame\n",
    "data=spark.read.csv(\"D:\\Master Course\\Sem Two\\Big Data Management And Data Visualisation\\Dataset\\heart_failure_clinical_records_dataset.csv\", inferSchema=True, header=True)\n",
    "data.show(truncate=False, n=5)"
   ]
  },
  {
   "cell_type": "raw",
   "id": "b4ee6c78-4074-4bbb-b261-bc8639932976",
   "metadata": {},
   "source": [
    "Summary:\n",
    "This program sets up a SparkSession, loads data from a CSV file into a PySpark DataFrame, and displays its initial rows. It's essential for starting data analysis, manipulation, and machine learning tasks using PySpark, especially with large datasets requiring distributed computing capabilities. Adjust the CSV file path as needed and ensure correct installation and configuration of Spark and PySpark."
   ]
  },
  {
   "cell_type": "raw",
   "id": "cdd458ed-8867-447e-9e18-9672e2c4b0e9",
   "metadata": {},
   "source": [
    "data.printSchema(): This method prints the schema of the DataFrame data, which includes information about the column names and their data types inferred from the CSV file."
   ]
  },
  {
   "cell_type": "code",
   "execution_count": 5,
   "id": "176276ed-49f0-4004-904f-192a79736394",
   "metadata": {},
   "outputs": [
    {
     "name": "stdout",
     "output_type": "stream",
     "text": [
      "root\n",
      " |-- age: double (nullable = true)\n",
      " |-- anaemia: integer (nullable = true)\n",
      " |-- creatinine_phosphokinase: integer (nullable = true)\n",
      " |-- diabetes: integer (nullable = true)\n",
      " |-- ejection_fraction: integer (nullable = true)\n",
      " |-- high_blood_pressure: integer (nullable = true)\n",
      " |-- platelets: double (nullable = true)\n",
      " |-- serum_creatinine: double (nullable = true)\n",
      " |-- serum_sodium: integer (nullable = true)\n",
      " |-- sex: integer (nullable = true)\n",
      " |-- smoking: integer (nullable = true)\n",
      " |-- time: integer (nullable = true)\n",
      " |-- DEATH_EVENT: integer (nullable = true)\n",
      "\n"
     ]
    }
   ],
   "source": [
    "# Check the schema of the DataFrame\n",
    "data.printSchema()"
   ]
  },
  {
   "cell_type": "raw",
   "id": "a50a57de-44ba-4fe4-b02c-ab69cb76e3ab",
   "metadata": {},
   "source": [
    "Summary:\n",
    "It helps to understand the data for tasks like data analysis, transformations, and machine learning in PySpark. Adjust the CSV file path to match your actual file location and ensure Spark and PySpark are set up correctly."
   ]
  },
  {
   "cell_type": "markdown",
   "id": "7318e454-eed4-4d65-813c-6ba6dc73de42",
   "metadata": {},
   "source": [
    "# Checking Null Values in the Data"
   ]
  },
  {
   "cell_type": "code",
   "execution_count": 6,
   "id": "7cb927fd-ab19-4d7f-9783-6fc4bec397cb",
   "metadata": {},
   "outputs": [
    {
     "name": "stdout",
     "output_type": "stream",
     "text": [
      "+---+-------+------------------------+--------+-----------------+-------------------+---------+----------------+------------+---+-------+----+-----------+\n",
      "|age|anaemia|creatinine_phosphokinase|diabetes|ejection_fraction|high_blood_pressure|platelets|serum_creatinine|serum_sodium|sex|smoking|time|DEATH_EVENT|\n",
      "+---+-------+------------------------+--------+-----------------+-------------------+---------+----------------+------------+---+-------+----+-----------+\n",
      "|  0|      0|                       0|       0|                0|                  0|        0|               0|           0|  0|      0|   0|          0|\n",
      "+---+-------+------------------------+--------+-----------------+-------------------+---------+----------------+------------+---+-------+----+-----------+\n",
      "\n"
     ]
    }
   ],
   "source": [
    "from pyspark.sql.functions import *\n",
    "\n",
    "data.select([count(when(col(c).contains('None') | \\\n",
    "                            col(c).contains('NULL') | \\\n",
    "                            (col(c) == '' ) | \\\n",
    "                            col(c).isNull() | \\\n",
    "                            isnan(c), c \n",
    "                           )).alias(c)\n",
    "                    for c in data.columns]).show()"
   ]
  },
  {
   "cell_type": "code",
   "execution_count": 7,
   "id": "cfe8bab2-ccd9-4fc3-a731-558f4d18304e",
   "metadata": {},
   "outputs": [
    {
     "data": {
      "text/plain": [
       "999"
      ]
     },
     "execution_count": 7,
     "metadata": {},
     "output_type": "execute_result"
    }
   ],
   "source": [
    "data.count()"
   ]
  },
  {
   "cell_type": "markdown",
   "id": "801ec781-0ad0-4126-8533-6ee6661a1a5e",
   "metadata": {},
   "source": [
    "# Data Preparation and Splitting for Machine Learning in PySpark"
   ]
  },
  {
   "cell_type": "raw",
   "id": "2e0ebc6a-fbb4-49b9-b70e-f7a4a5a90a3d",
   "metadata": {},
   "source": [
    "In PySpark, splitting data into training and test sets can be achieved using the randomSplit method on a DataFrame."
   ]
  },
  {
   "cell_type": "code",
   "execution_count": 8,
   "id": "fb9be3a3-c357-4aea-9253-081ab42b59b8",
   "metadata": {},
   "outputs": [
    {
     "name": "stdout",
     "output_type": "stream",
     "text": [
      "Train data count: 686\n",
      "Test data count: 313\n"
     ]
    }
   ],
   "source": [
    "# Split the data into training and test sets\n",
    "data_split = data.randomSplit([0.7, 0.3], seed= 123)  # 70% for training, 30% for testing\n",
    "\n",
    "# Assign training and test sets\n",
    "train = data_split[0]\n",
    "test = data_split[1]\n",
    "\n",
    "# Print the counts of records in each set\n",
    "print(\"Train data count:\", train.count())\n",
    "print(\"Test data count:\", test.count())"
   ]
  },
  {
   "cell_type": "raw",
   "id": "838e2948-b45b-4404-b1d8-bf66afcee285",
   "metadata": {},
   "source": [
    "Summary:\n",
    "Ensure the CSV file path (\"D:\\Master Course\\Sem Two\\Big Data Management And Data Visualisation\\Dataset\\heart_failure_clinical_records_dataset.csv\") is correctly specified. Adjust the split ratios [0.7, 0.3] as needed for training and testing data divisions. Use a specific seed value (e.g., seed=42) to maintain consistency in data splits for reproducible results across different runs of the script. This approach is crucial in PySpark for preparing data and evaluating machine learning models on independent test data, adhering to best practices in model validation."
   ]
  },
  {
   "cell_type": "markdown",
   "id": "b1c76c54-776b-42e5-8548-3f695be10e52",
   "metadata": {},
   "source": [
    "# Feature Engineering Using VectorAssembler in PySpark"
   ]
  },
  {
   "cell_type": "raw",
   "id": "da7ffdf0-d7d5-4e99-9997-7716a195b392",
   "metadata": {},
   "source": [
    "This code snippet demonstrates how to engineer features using the VectorAssembler in PySpark. Feature engineering involves transforming raw data into features that can be used for machine learning models."
   ]
  },
  {
   "cell_type": "code",
   "execution_count": 9,
   "id": "a32c5ea2-e8cf-41e8-a44f-8c08466747f5",
   "metadata": {},
   "outputs": [
    {
     "name": "stdout",
     "output_type": "stream",
     "text": [
      "+----+-------+------------------------+--------+-----------------+-------------------+---------+----------------+------------+---+-------+----+-----------+\n",
      "| age|anaemia|creatinine_phosphokinase|diabetes|ejection_fraction|high_blood_pressure|platelets|serum_creatinine|serum_sodium|sex|smoking|time|DEATH_EVENT|\n",
      "+----+-------+------------------------+--------+-----------------+-------------------+---------+----------------+------------+---+-------+----+-----------+\n",
      "|40.0|      0|                      90|       0|               35|                  0| 255000.0|             1.1|         136|  1|      1| 212|          0|\n",
      "|40.0|      0|                     244|       0|               45|                  1| 275000.0|             0.9|         140|  0|      0| 174|          0|\n",
      "+----+-------+------------------------+--------+-----------------+-------------------+---------+----------------+------------+---+-------+----+-----------+\n",
      "only showing top 2 rows\n",
      "\n",
      "+--------------------------------------------------------------+-----+\n",
      "|features                                                      |label|\n",
      "+--------------------------------------------------------------+-----+\n",
      "|[40.0,0.0,90.0,0.0,35.0,0.0,255000.0,1.1,136.0,1.0,1.0,212.0] |0    |\n",
      "|[40.0,0.0,244.0,0.0,45.0,1.0,275000.0,0.9,140.0,0.0,0.0,174.0]|0    |\n",
      "|[40.0,0.0,478.0,1.0,30.0,0.0,303000.0,0.9,136.0,1.0,0.0,148.0]|0    |\n",
      "|[40.0,0.0,582.0,1.0,35.0,0.0,222000.0,1.0,132.0,1.0,0.0,244.0]|0    |\n",
      "|[40.0,0.0,624.0,0.0,35.0,0.0,301000.0,1.0,142.0,1.0,1.0,214.0]|0    |\n",
      "+--------------------------------------------------------------+-----+\n",
      "only showing top 5 rows\n",
      "\n",
      "+--------------------------------------------------------------+-----+\n",
      "|features                                                      |label|\n",
      "+--------------------------------------------------------------+-----+\n",
      "|[40.0,0.0,280.0,0.0,35.0,0.0,255000.0,1.1,136.0,1.0,1.0,212.0]|0    |\n",
      "|[40.0,0.0,624.0,0.0,35.0,0.0,368000.0,1.0,142.0,1.0,1.0,214.0]|0    |\n",
      "|[40.0,0.0,624.0,0.0,60.0,0.0,242000.0,1.0,137.0,1.0,0.0,214.0]|0    |\n",
      "|[40.0,1.0,101.0,0.0,40.0,0.0,226000.0,0.8,141.0,0.0,0.0,187.0]|0    |\n",
      "|[40.0,1.0,101.0,1.0,40.0,0.0,368000.0,0.8,141.0,0.0,0.0,187.0]|0    |\n",
      "+--------------------------------------------------------------+-----+\n",
      "only showing top 5 rows\n",
      "\n"
     ]
    }
   ],
   "source": [
    "#'train' is already defined as the training DataFrame\n",
    "train.show(2)\n",
    "\n",
    "# Define a VectorAssembler to combine features into a single vector column\n",
    "assembler = VectorAssembler(inputCols=['age', 'anaemia', 'creatinine_phosphokinase',\n",
    "                                       'diabetes', 'ejection_fraction', 'high_blood_pressure',\n",
    "                                       'platelets', 'serum_creatinine', 'serum_sodium',\n",
    "                                       'sex', 'smoking', 'time'],\n",
    "                            outputCol='features')\n",
    "\n",
    "# Transform the training data using the VectorAssembler\n",
    "trainingdatafinal = assembler.transform(train).select(col('features'), col('DEATH_EVENT').alias('label'))\n",
    "testdatafinal = assembler.transform(test).select(col('features'), col('DEATH_EVENT').alias('label'))\n",
    "# Show the transformed data with features and labels\n",
    "trainingdatafinal.show(truncate=False, n=5)\n",
    "testdatafinal.show(truncate=False, n=5)"
   ]
  },
  {
   "cell_type": "raw",
   "id": "b682bc38-1122-47ac-9f56-cb8a2cb8b135",
   "metadata": {},
   "source": [
    "Summary:\n",
    "This script illustrates how to prepare data for machine learning in PySpark by using VectorAssembler to engineer features. It combines designated input columns into a unified feature vector column ('features'), readying the data for model training. Feature engineering is pivotal in machine learning pipelines, facilitating effective learning from structured data. Customize the input columns (inputCols) to match your dataset's features and verify the correct configuration of SparkSession and data path."
   ]
  },
  {
   "cell_type": "markdown",
   "id": "487742fa-87fa-4162-9148-1b75ba8f6ccd",
   "metadata": {},
   "source": [
    "# Apply Classification Algorithms"
   ]
  },
  {
   "cell_type": "raw",
   "id": "5b5ccc19-ba6b-4334-9773-81b6a6996620",
   "metadata": {},
   "source": [
    "Logistic Regression\n",
    "This code snippet performs logistic regression using PySpark. It initializes a logistic regression model (lr) with specified input (featuresCol='features') and output (labelCol='label') columns. The model is trained (lr.fit(trainingdatafinal)) on the training data (trainingdatafinal). It then predicts outcomes on the test data (lr_model.transform(testdatafinal)) and evaluates its accuracy using a binary classification evaluator (BinaryClassificationEvaluator). Finally, it prints the logistic regression model's accuracy (lr_accuracy)."
   ]
  },
  {
   "cell_type": "code",
   "execution_count": 10,
   "id": "b10e7bdd-d3c7-43b7-8a1c-d95c89657a59",
   "metadata": {},
   "outputs": [],
   "source": [
    "from pyspark.ml.evaluation import BinaryClassificationEvaluator\n",
    "# Logistic Regression\n",
    "# Initialize Logistic Regression model\n",
    "lr = LogisticRegression(featuresCol='features', labelCol='label')\n",
    "\n",
    "# Fit the model on training data\n",
    "lr_model = lr.fit(trainingdatafinal)\n",
    "\n",
    "# Predict on test data\n",
    "lr_predictions = lr_model.transform(testdatafinal)"
   ]
  },
  {
   "cell_type": "code",
   "execution_count": 11,
   "id": "9edaee9c-7b5f-438d-90be-d32a294438a2",
   "metadata": {},
   "outputs": [
    {
     "name": "stdout",
     "output_type": "stream",
     "text": [
      "Logistic Regression Accuracy: 0.8785942492012779\n",
      "+-----+----------+-----+\n",
      "|label|prediction|count|\n",
      "+-----+----------+-----+\n",
      "|    1|       0.0|   24|\n",
      "|    0|       0.0|  208|\n",
      "|    1|       1.0|   67|\n",
      "|    0|       1.0|   14|\n",
      "+-----+----------+-----+\n",
      "\n"
     ]
    }
   ],
   "source": [
    "from pyspark.ml.evaluation import MulticlassClassificationEvaluator, BinaryClassificationEvaluator\n",
    "# Evaluate the model using MulticlassClassificationEvaluator for Confusion Matrix\n",
    "evaluator = MulticlassClassificationEvaluator(predictionCol=\"prediction\", labelCol=\"label\", metricName=\"accuracy\")\n",
    "accuracy = evaluator.evaluate(lr_predictions)\n",
    "print(\"Logistic Regression Accuracy:\", accuracy)\n",
    "\n",
    "# Calculate Confusion Matrix\n",
    "conf_matrix = lr_predictions.groupBy('label', 'prediction').count()\n",
    "conf_matrix.show()\n"
   ]
  },
  {
   "cell_type": "code",
   "execution_count": 12,
   "id": "e122b256-8f42-40ea-9648-5881a3fa9821",
   "metadata": {},
   "outputs": [
    {
     "name": "stdout",
     "output_type": "stream",
     "text": [
      "Area Under ROC: 0.9032274032274028\n"
     ]
    },
    {
     "data": {
      "image/png": "[encoded data removed]",
      "text/plain": [
       "<Figure size 640x480 with 1 Axes>"
      ]
     },
     "metadata": {},
     "output_type": "display_data"
    }
   ],
   "source": [
    "# Evaluate the model using BinaryClassificationEvaluator for ROC Curve\n",
    "evaluator_roc = BinaryClassificationEvaluator(labelCol=\"label\", rawPredictionCol=\"rawPrediction\", metricName=\"areaUnderROC\")\n",
    "roc_auc = evaluator_roc.evaluate(lr_predictions)\n",
    "print(\"Area Under ROC:\", roc_auc)\n",
    "\n",
    "# Plot ROC Curve (assuming you have probabilities for ROC curve)\n",
    "from sklearn.metrics import roc_curve, auc\n",
    "import matplotlib.pyplot as plt\n",
    "\n",
    "# Extract probability for class 1 (positive class)\n",
    "lr_prob = lr_predictions.select('probability').rdd.map(lambda x: x['probability'][1]).collect()\n",
    "y_true = lr_predictions.select('label').rdd.map(lambda x: x['label']).collect()\n",
    "\n",
    "# Calculate ROC curve\n",
    "fpr, tpr, thresholds = roc_curve(y_true, lr_prob)\n",
    "roc_auc = auc(fpr, tpr)\n",
    "\n",
    "# Plot ROC curve\n",
    "plt.figure()\n",
    "plt.plot(fpr, tpr, color='darkorange', lw=2, label='ROC curve (area = %0.2f)' % roc_auc)\n",
    "plt.plot([0, 1], [0, 1], color='navy', lw=2, linestyle='--')\n",
    "plt.xlim([0.0, 1.0])\n",
    "plt.ylim([0.0, 1.05])\n",
    "plt.xlabel('False Positive Rate')\n",
    "plt.ylabel('True Positive Rate')\n",
    "plt.title('Receiver Operating Characteristic (ROC) Curve')\n",
    "plt.legend(loc=\"lower right\")\n",
    "plt.show()"
   ]
  },
  {
   "cell_type": "raw",
   "id": "9b481e52-ef81-4873-86d8-7bd85c153a77",
   "metadata": {},
   "source": [
    "Random Forest Classifier:\n",
    "This code snippet demonstrates how to use a Random Forest Classifier in PySpark. It initializes the model (rf) with specified input (featuresCol='features') and output (labelCol='label') columns. The model is trained (rf.fit(trainingdatafinal)) on the training data (trainingdatafinal). It then predicts outcomes on the test data (rf_model.transform(testdatafinal)) and evaluates its accuracy using the same binary classification evaluator (lr_evaluator). Finally, it prints the accuracy of the Random Forest Classifier (rf_accuracy)."
   ]
  },
  {
   "cell_type": "code",
   "execution_count": 13,
   "id": "71313f7d-efee-458a-bf4b-740b0f8878c9",
   "metadata": {},
   "outputs": [],
   "source": [
    "#Random Forest Classifier\n",
    "# Initialize Random Forest Classifier model\n",
    "rf = RandomForestClassifier(featuresCol='features', labelCol='label')\n",
    "\n",
    "# Fit the model on training data\n",
    "rf_model = rf.fit(trainingdatafinal)\n",
    "\n",
    "# Predict on test data\n",
    "rf_predictions = rf_model.transform(testdatafinal)"
   ]
  },
  {
   "cell_type": "code",
   "execution_count": 14,
   "id": "72e75747-8239-43e5-a83f-34fab69beb7a",
   "metadata": {},
   "outputs": [
    {
     "name": "stdout",
     "output_type": "stream",
     "text": [
      "Random Forest Classifier Accuracy: 0.9041533546325878\n",
      "+-----+----------+-----+\n",
      "|label|prediction|count|\n",
      "+-----+----------+-----+\n",
      "|    1|       0.0|   17|\n",
      "|    0|       0.0|  209|\n",
      "|    1|       1.0|   74|\n",
      "|    0|       1.0|   13|\n",
      "+-----+----------+-----+\n",
      "\n"
     ]
    }
   ],
   "source": [
    "# Evaluate the model using MulticlassClassificationEvaluator for Confusion Matrix\n",
    "evaluator_rf = MulticlassClassificationEvaluator(predictionCol=\"prediction\", labelCol=\"label\", metricName=\"accuracy\")\n",
    "accuracy_rf = evaluator_rf.evaluate(rf_predictions)\n",
    "print(\"Random Forest Classifier Accuracy:\", accuracy_rf)\n",
    "\n",
    "# Calculate Confusion Matrix\n",
    "conf_matrix_rf = rf_predictions.groupBy('label', 'prediction').count()\n",
    "conf_matrix_rf.show()"
   ]
  },
  {
   "cell_type": "code",
   "execution_count": 15,
   "id": "88915e68-660f-4f33-a835-311c9a73d6a7",
   "metadata": {},
   "outputs": [
    {
     "name": "stdout",
     "output_type": "stream",
     "text": [
      "Area Under ROC (Random Forest): 0.9388921888921901\n"
     ]
    },
    {
     "data": {
      "image/png": "[encoded data removed]",
      "text/plain": [
       "<Figure size 640x480 with 1 Axes>"
      ]
     },
     "metadata": {},
     "output_type": "display_data"
    }
   ],
   "source": [
    "# Evaluate the model using BinaryClassificationEvaluator for ROC Curve\n",
    "evaluator_roc_rf = BinaryClassificationEvaluator(labelCol=\"label\", rawPredictionCol=\"rawPrediction\", metricName=\"areaUnderROC\")\n",
    "roc_auc_rf = evaluator_roc_rf.evaluate(rf_predictions)\n",
    "print(\"Area Under ROC (Random Forest):\", roc_auc_rf)\n",
    "\n",
    "# Plot ROC Curve (assuming you have probabilities for ROC curve)\n",
    "from sklearn.metrics import roc_curve, auc\n",
    "import matplotlib.pyplot as plt\n",
    "\n",
    "# Extract probability for class 1 (positive class)\n",
    "rf_prob = rf_predictions.select('probability').rdd.map(lambda x: x['probability'][1]).collect()\n",
    "y_true_rf = rf_predictions.select('label').rdd.map(lambda x: x['label']).collect()\n",
    "\n",
    "# Calculate ROC curve\n",
    "fpr_rf, tpr_rf, thresholds_rf = roc_curve(y_true_rf, rf_prob)\n",
    "roc_auc_rf = auc(fpr_rf, tpr_rf)\n",
    "\n",
    "# Plot ROC curve for Random Forest\n",
    "plt.figure()\n",
    "plt.plot(fpr_rf, tpr_rf, color='darkorange', lw=2, label='ROC curve (area = %0.2f)' % roc_auc_rf)\n",
    "plt.plot([0, 1], [0, 1], color='navy', lw=2, linestyle='--')\n",
    "plt.xlim([0.0, 1.0])\n",
    "plt.ylim([0.0, 1.05])\n",
    "plt.xlabel('False Positive Rate')\n",
    "plt.ylabel('True Positive Rate')\n",
    "plt.title('Receiver Operating Characteristic (ROC) Curve - Random Forest')\n",
    "plt.legend(loc=\"lower right\")\n",
    "plt.show()"
   ]
  },
  {
   "cell_type": "raw",
   "id": "e201064b-2f57-42a9-a1c3-39148c0c0d73",
   "metadata": {},
   "source": [
    "Decision Tree Classifier:\n",
    "This code segment demonstrates the use of a Decision Tree Classifier in PySpark. It initializes the classifier (dt) with specified input (featuresCol='features') and output (labelCol='label') columns. The model is trained (dt.fit(trainingdatafinal)) on the training data (trainingdatafinal). Subsequently, predictions are made on the test data (dt_model.transform(testdatafinal)) using the trained model. The accuracy of the Decision Tree Classifier is then evaluated using the binary classification evaluator (lr_evaluator), and the result is printed as dt_accuracy."
   ]
  },
  {
   "cell_type": "code",
   "execution_count": 16,
   "id": "f2ebed9e-a831-4bf1-8355-0ee3e3e4b300",
   "metadata": {},
   "outputs": [],
   "source": [
    "# Decision Tree Classifier\n",
    "# Initialize Decision Tree Classifier model\n",
    "dt = DecisionTreeClassifier(featuresCol='features', labelCol='label')\n",
    "\n",
    "# Fit the model on training data\n",
    "dt_model = dt.fit(trainingdatafinal)\n",
    "\n",
    "# Predict on test data\n",
    "dt_predictions = dt_model.transform(testdatafinal)"
   ]
  },
  {
   "cell_type": "code",
   "execution_count": 17,
   "id": "dc07ff86-b352-408a-b332-8aa0f64aec57",
   "metadata": {},
   "outputs": [
    {
     "name": "stdout",
     "output_type": "stream",
     "text": [
      "Decision Tree Classifier Accuracy: 0.9073482428115016\n",
      "+-----+----------+-----+\n",
      "|label|prediction|count|\n",
      "+-----+----------+-----+\n",
      "|    1|       0.0|   17|\n",
      "|    0|       0.0|  210|\n",
      "|    1|       1.0|   74|\n",
      "|    0|       1.0|   12|\n",
      "+-----+----------+-----+\n",
      "\n"
     ]
    }
   ],
   "source": [
    "# Evaluate the model using MulticlassClassificationEvaluator for Confusion Matrix\n",
    "evaluator_dt = MulticlassClassificationEvaluator(predictionCol=\"prediction\", labelCol=\"label\", metricName=\"accuracy\")\n",
    "accuracy_dt = evaluator_dt.evaluate(dt_predictions)\n",
    "print(\"Decision Tree Classifier Accuracy:\", accuracy_dt)\n",
    "\n",
    "# Calculate Confusion Matrix\n",
    "conf_matrix_dt = dt_predictions.groupBy('label', 'prediction').count()\n",
    "conf_matrix_dt.show()"
   ]
  },
  {
   "cell_type": "code",
   "execution_count": 18,
   "id": "0bc48b8e-b82e-4885-8688-edc756340d59",
   "metadata": {},
   "outputs": [
    {
     "name": "stdout",
     "output_type": "stream",
     "text": [
      "Area Under ROC (Decision Tree): 0.8075190575190575\n"
     ]
    },
    {
     "data": {
      "image/png": "[encoded data removed]",
      "text/plain": [
       "<Figure size 640x480 with 1 Axes>"
      ]
     },
     "metadata": {},
     "output_type": "display_data"
    }
   ],
   "source": [
    "# Evaluate the model using BinaryClassificationEvaluator for ROC Curve\n",
    "evaluator_roc_dt = BinaryClassificationEvaluator(labelCol=\"label\", rawPredictionCol=\"rawPrediction\", metricName=\"areaUnderROC\")\n",
    "roc_auc_dt = evaluator_roc_dt.evaluate(dt_predictions)\n",
    "print(\"Area Under ROC (Decision Tree):\", roc_auc_dt)\n",
    "\n",
    "# Plot ROC Curve (assuming you have probabilities for ROC curve)\n",
    "from sklearn.metrics import roc_curve, auc\n",
    "import matplotlib.pyplot as plt\n",
    "\n",
    "# Extract probability for class 1 (positive class)\n",
    "dt_prob = dt_predictions.select('probability').rdd.map(lambda x: x['probability'][1]).collect()\n",
    "y_true_dt = dt_predictions.select('label').rdd.map(lambda x: x['label']).collect()\n",
    "\n",
    "# Calculate ROC curve\n",
    "fpr_dt, tpr_dt, thresholds_dt = roc_curve(y_true_dt, dt_prob)\n",
    "roc_auc_dt = auc(fpr_dt, tpr_dt)\n",
    "\n",
    "# Plot ROC curve for Decision Tree\n",
    "plt.figure()\n",
    "plt.plot(fpr_dt, tpr_dt, color='darkorange', lw=2, label='ROC curve (area = %0.2f)' % roc_auc_dt)\n",
    "plt.plot([0, 1], [0, 1], color='navy', lw=2, linestyle='--')\n",
    "plt.xlim([0.0, 1.0])\n",
    "plt.ylim([0.0, 1.05])\n",
    "plt.xlabel('False Positive Rate')\n",
    "plt.ylabel('True Positive Rate')\n",
    "plt.title('Receiver Operating Characteristic (ROC) Curve - Decision Tree')\n",
    "plt.legend(loc=\"lower right\")\n",
    "plt.show()"
   ]
  },
  {
   "cell_type": "markdown",
   "id": "3307bfff-d3b1-4b35-bf89-fc06fa1df9f2",
   "metadata": {},
   "source": [
    "# Summary Table"
   ]
  },
  {
   "cell_type": "raw",
   "id": "8129ecfd-3080-4a3a-be51-a7a0e396bee9",
   "metadata": {},
   "source": [
    "To display the results of multiple classifiers (Logistic Regression, Random Forest, Decision Tree) including accuracy, confusion matrix, and ROC AUC in the same table, you can organize the data into a structured format and then use libraries like Pandas and Tabulate to present it neatly"
   ]
  },
  {
   "cell_type": "code",
   "execution_count": 19,
   "id": "88bbc3b1-72fd-4704-8f6e-4c87ff5760d4",
   "metadata": {},
   "outputs": [
    {
     "name": "stdout",
     "output_type": "stream",
     "text": [
      "+---+--------------------------+--------------------+----------------------------------------------------------+--------------------+\n",
      "|   |          Model           |      Accuracy      |                     Confusion Matrix                     |      ROC AUC       |\n",
      "+---+--------------------------+--------------------+----------------------------------------------------------+--------------------+\n",
      "| 0 |   Logistic Regression    | 0.8785942492012779 | DataFrame[label: int, prediction: double, count: bigint] | 0.9032274032274028 |\n",
      "| 1 | Random Forest Classifier | 0.9041533546325878 | DataFrame[label: int, prediction: double, count: bigint] | 0.9388921888921901 |\n",
      "| 2 | Decision Tree Classifier | 0.9073482428115016 | DataFrame[label: int, prediction: double, count: bigint] | 0.8075190575190575 |\n",
      "+---+--------------------------+--------------------+----------------------------------------------------------+--------------------+\n"
     ]
    }
   ],
   "source": [
    "from tabulate import tabulate\n",
    "import pandas as pd\n",
    "\n",
    "# Initialize models\n",
    "models = {\n",
    "    \"Logistic Regression\": LogisticRegression(featuresCol='features', labelCol='label'),\n",
    "    \"Random Forest Classifier\": RandomForestClassifier(featuresCol='features', labelCol='label'),\n",
    "    \"Decision Tree Classifier\": DecisionTreeClassifier(featuresCol='features', labelCol='label')\n",
    "}\n",
    "# Storage for results\n",
    "results = []\n",
    "# Iterate over each model\n",
    "for name, model in models.items():\n",
    "    # Fit the model\n",
    "    model_fit = model.fit(trainingdatafinal)\n",
    "    # Predictions\n",
    "    predictions = model_fit.transform(testdatafinal)\n",
    "    # Accuracy\n",
    "    evaluator_acc = MulticlassClassificationEvaluator(predictionCol=\"prediction\", labelCol=\"label\", metricName=\"accuracy\")\n",
    "    accuracy = evaluator_acc.evaluate(predictions)\n",
    "    # Confusion Matrix\n",
    "    conf_matrix = predictions.groupBy('label', 'prediction').count()\n",
    "    # ROC AUC\n",
    "    evaluator_roc = BinaryClassificationEvaluator(labelCol=\"label\", rawPredictionCol=\"rawPrediction\", metricName=\"areaUnderROC\")\n",
    "    roc_auc = evaluator_roc.evaluate(predictions)\n",
    "    # Store results in a tuple\n",
    "    results.append((name, accuracy, conf_matrix, roc_auc))\n",
    "# Convert results to Pandas DataFrame\n",
    "df_results = pd.DataFrame(results, columns=[\"Model\", \"Accuracy\", \"Confusion Matrix\", \"ROC AUC\"])\n",
    "# Display the results table using tabulate\n",
    "print(tabulate(df_results, headers='keys', tablefmt='pretty'))"
   ]
  },
  {
   "cell_type": "raw",
   "id": "15d4f432-a3f2-4863-b35f-e1babc9064da",
   "metadata": {},
   "source": [
    "Summary:\n",
    "This code initializes instances of Logistic Regression, Random Forest, and Decision Tree classifiers, stores them in a dictionary, and evaluates their performance metrics (accuracy, confusion matrix, ROC AUC) on specified datasets. Results are stored in a list and converted to a Pandas DataFrame for tabular display using tabulate, allowing clear comparison of classifier performance."
   ]
  }
 ],
 "metadata": {
  "kernelspec": {
   "display_name": "Python 3 (ipykernel)",
   "language": "python",
   "name": "python3"
  },
  "language_info": {
   "codemirror_mode": {
    "name": "ipython",
    "version": 3
   },
   "file_extension": ".py",
   "mimetype": "text/x-python",
   "name": "python",
   "nbconvert_exporter": "python",
   "pygments_lexer": "ipython3",
   "version": "3.11.7"
  }
 },
 "nbformat": 4,
 "nbformat_minor": 5
}
